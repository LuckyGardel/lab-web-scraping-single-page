{
 "cells": [
  {
   "cell_type": "code",
   "execution_count": 1,
   "id": "6e999409",
   "metadata": {},
   "outputs": [],
   "source": [
    "import pandas as pd\n",
    "import numpy as np\n",
    "from bs4 import BeautifulSoup\n",
    "import requests"
   ]
  },
  {
   "cell_type": "markdown",
   "id": "923cc2b5",
   "metadata": {},
   "source": [
    "#### SELECT METHOD"
   ]
  },
  {
   "cell_type": "code",
   "execution_count": 15,
   "id": "85c3873f",
   "metadata": {},
   "outputs": [],
   "source": [
    "url = \"https://www.popvortex.com/music/charts/top-100-songs.php\""
   ]
  },
  {
   "cell_type": "code",
   "execution_count": 16,
   "id": "db2314a9",
   "metadata": {},
   "outputs": [
    {
     "data": {
      "text/plain": [
       "200"
      ]
     },
     "execution_count": 16,
     "metadata": {},
     "output_type": "execute_result"
    }
   ],
   "source": [
    "# download html with a get request\n",
    "response = requests.get(url)\n",
    "response.status_code # 200 status code means OK!"
   ]
  },
  {
   "cell_type": "code",
   "execution_count": 17,
   "id": "2a87f94d",
   "metadata": {},
   "outputs": [],
   "source": [
    "# parse html (create the 'soup')\n",
    "soup = BeautifulSoup(response.content, \"html.parser\")"
   ]
  },
  {
   "cell_type": "markdown",
   "id": "1f73e5a6",
   "metadata": {},
   "source": [
    "I am unselectting the following cells so you dont see a crazy scroll done of html code"
   ]
  },
  {
   "cell_type": "code",
   "execution_count": 1,
   "id": "e7cf4e36",
   "metadata": {},
   "outputs": [],
   "source": [
    "# soup"
   ]
  },
  {
   "cell_type": "code",
   "execution_count": 2,
   "id": "aa4f23e0",
   "metadata": {},
   "outputs": [],
   "source": [
    "# print(soup.prettify())"
   ]
  },
  {
   "cell_type": "code",
   "execution_count": 3,
   "id": "eb4b7856",
   "metadata": {},
   "outputs": [],
   "source": [
    "# soup.select('body > div.container > div:nth-child(4) > div.col-xs-12.col-md-8 > div.chart-wrapper')"
   ]
  },
  {
   "cell_type": "code",
   "execution_count": 4,
   "id": "5d17d35c",
   "metadata": {},
   "outputs": [],
   "source": [
    "# soup.select('div.chart-wrapper p')\n"
   ]
  },
  {
   "cell_type": "code",
   "execution_count": 80,
   "id": "cd333115",
   "metadata": {},
   "outputs": [
    {
     "name": "stdout",
     "output_type": "stream",
     "text": [
      "['Separate Ways (Worlds Apart) [feat. Lzzy Hale]', 'Unholy', 'Heart Like A Truck', 'Anti-Hero', 'Son Of A Sinner', 'Made You Look', 'Lift Me Up (From Black Panther: Wakanda Forever - Music From and Inspired By)', 'Temperature', 'wait in the truck', 'Thought You Should Know', 'Bloody Mary', 'Thank God', 'Unstoppable', \"I Ain't Worried\", \"I'm Good (Blue)\", 'Ghost', \"Something in the Orange (Z&E's Version)\", 'No Horse To Ride', 'As It Was', 'Rock and a Hard Place', 'One Thing At A Time', 'Mine', 'Players', 'You Proof', 'Memory Lane', 'Wasted On You', 'Hold My Hand', 'Giddy Up!', 'Calm Down', 'Cooler Than Me (Single Mix)', 'Hold Me Closer', \"I'm Good (Blue)\", \"Creepin'\", 'Fall In Love', 'CUFF IT', 'The Kind of Love We Make', 'Tishomingo', 'Gratitude', 'Just Pretend', 'About Damn Time', 'What My World Spins Around', 'Going, Going, Gone', 'Bebe Dame', 'Kill Bill', 'golden hour', 'Under the Influence', 'Watermelon Moonshine', 'Que Vuelvas', 'Sober', 'Daydream', 'Shivers', 'Me For Me', 'Die For You', 'Wreckage', 'Tennessee Whiskey', 'Cold Heart (PNAU Remix)', 'Never Been to Spain', 'Run Away to Mars', \"Chasin' You\", 'She Had Me At Heads Carolina', 'Victoria’s Secret', 'Something in the Orange', 'The Summoning', 'Going Yeezy', 'How Do I Say Goodbye', 'Goo Goo Muck', 'Hey There Delilah', 'Way of the Triune God (Hallelujah Version)', 'NEED A FAVOR', 'Just Wanna Rock', 'In the Air Tonight', 'Handle On You', 'Black', \"I'm a Believer\", 'Goodness of God (Live)', 'Tennessee Orange', 'Fenty', 'Bones', 'Things A Man Oughta Know', 'Rich Flex', 'Escapism.', 'Sunroof', 'Forget Me', \"'Til You Can't\", 'Easier Said with Rum', \"What He Didn't Do\", 'Top Girls', 'Yes I Do', 'The Oath', 'Motorcycle Drive By', 'Perfectly Loved (feat. TobyMac)', 'Bad Habit', 'Until I Found You', 'Yes I Do', 'Smell Like Smoke', 'Igloo', 'People', \"The Good I'll Do\", \"In Case You Didn't Know\", 'Next Thing You Know']\n",
      "['Daughtry', 'Sam Smith & Kim Petras', 'Lainey Wilson', 'Taylor Swift', 'Jelly Roll', 'Meghan Trainor', 'Rihanna', 'Sean Paul', 'HARDY & Lainey Wilson', 'Morgan Wallen', 'Lady Gaga', 'Kane Brown & Katelyn Brown', 'Sia', 'OneRepublic', 'David Guetta & Bebe Rexha', 'Tom MacDonald', 'Zach Bryan', 'Luke Grimes', 'Harry Styles', 'Bailey Zimmerman', 'Morgan Wallen', 'Bazzi', 'Coi Leray', 'Morgan Wallen', 'Old Dominion', 'Morgan Wallen', 'Lady Gaga', 'Shania Twain', 'Rema & Selena Gomez', 'Mike Posner', 'Elton John & Britney Spears', 'David Guetta & Bebe Rexha', 'Metro Boomin, The Weeknd & 21 Savage', 'Bailey Zimmerman', 'Beyoncé', 'Luke Combs', 'Zach Bryan', 'Brandon Lake', 'Bad Omens', 'Lizzo', 'Jordan Davis', 'Luke Combs', 'Fuerza Regida & Grupo Frontera', 'SZA', 'JVKE', 'Chris Brown', 'Lainey Wilson', 'Carin Leon & Grupo Frontera', 'P!nk', 'Lily Meola', 'Ed Sheeran', 'Tyler Hubbard', 'The Weeknd', 'Nate Smith', 'Chris Stapleton', 'Elton John & Dua Lipa', 'Three Dog Night', 'TALK', 'Morgan Wallen', 'Cole Swindell', 'Jax', 'Zach Bryan', 'Sleep Token', 'French Montana, DJ Drama & Cheeze', 'Dean Lewis', 'The Cramps', \"Plain White T's\", 'Tyler Childers', 'Jelly Roll', 'Lil Uzi Vert', 'Phil Collins', 'Parker McCollum', 'YoungBoy Never Broke Again', 'The Monkees', 'CeCe Winans', 'Megan Moroney', 'French Montana & NAV', 'Imagine Dragons', 'Lainey Wilson', 'Drake & 21 Savage', 'RAYE & 070 Shake', 'Nicky Youre & Dazy', 'Lewis Capaldi', 'Cody Johnson', 'Old Dominion', 'Carly Pearce', 'YoungBoy Never Broke Again', 'French Montana', 'Chinx, DJ Drama & French Montana', 'Zach Bryan', 'Rachael Lampa', 'Steve Lacy', 'Stephen Sanchez', 'French Montana', 'Lainey Wilson', 'French Montana, DJ Drama & Rob49', 'Libianca', 'Zach Bryan', 'Brett Young', 'Jordan Davis']\n"
     ]
    }
   ],
   "source": [
    "#initialize empty lists\n",
    "song_title = []\n",
    "artist = []\n",
    "\n",
    "\n",
    "\n",
    "# define the number of iterations of our for loop\n",
    "# by checking how many elements are in the retrieved result set\n",
    "# (this is equivalent but more robust than just explicitly defining 250 iterations)\n",
    "num_iter = len(soup.select(\"div.chart-wrapper p em\"))\n",
    "\n",
    "tClist = soup.select(\"div.chart-wrapper p em\")\n",
    "# spanlist = soup.select(\"td.titleColumn span.secondaryInfo\")\n",
    "# iterate through the result set and retrive all the data\n",
    "for i in range(num_iter):\n",
    "    song_title.append(soup.select(\"div.chart-wrapper p cite\")[i].get_text())\n",
    "    artist.append(soup.select(\"div.chart-wrapper p em\")[i].get_text())\n",
    "#     year.append(spanlist[i].get_text())\n",
    "\n",
    "print(song_title)\n",
    "print(artist)\n"
   ]
  },
  {
   "cell_type": "code",
   "execution_count": 81,
   "id": "f669bf08",
   "metadata": {},
   "outputs": [],
   "source": [
    "songs_list = pd.DataFrame({\"title\":song_title,\"artist\":artist})"
   ]
  },
  {
   "cell_type": "code",
   "execution_count": 82,
   "id": "161ba452",
   "metadata": {},
   "outputs": [
    {
     "data": {
      "text/html": [
       "<div>\n",
       "<style scoped>\n",
       "    .dataframe tbody tr th:only-of-type {\n",
       "        vertical-align: middle;\n",
       "    }\n",
       "\n",
       "    .dataframe tbody tr th {\n",
       "        vertical-align: top;\n",
       "    }\n",
       "\n",
       "    .dataframe thead th {\n",
       "        text-align: right;\n",
       "    }\n",
       "</style>\n",
       "<table border=\"1\" class=\"dataframe\">\n",
       "  <thead>\n",
       "    <tr style=\"text-align: right;\">\n",
       "      <th></th>\n",
       "      <th>title</th>\n",
       "      <th>artist</th>\n",
       "    </tr>\n",
       "  </thead>\n",
       "  <tbody>\n",
       "    <tr>\n",
       "      <th>0</th>\n",
       "      <td>Separate Ways (Worlds Apart) [feat. Lzzy Hale]</td>\n",
       "      <td>Daughtry</td>\n",
       "    </tr>\n",
       "    <tr>\n",
       "      <th>1</th>\n",
       "      <td>Unholy</td>\n",
       "      <td>Sam Smith &amp; Kim Petras</td>\n",
       "    </tr>\n",
       "    <tr>\n",
       "      <th>2</th>\n",
       "      <td>Heart Like A Truck</td>\n",
       "      <td>Lainey Wilson</td>\n",
       "    </tr>\n",
       "    <tr>\n",
       "      <th>3</th>\n",
       "      <td>Anti-Hero</td>\n",
       "      <td>Taylor Swift</td>\n",
       "    </tr>\n",
       "    <tr>\n",
       "      <th>4</th>\n",
       "      <td>Son Of A Sinner</td>\n",
       "      <td>Jelly Roll</td>\n",
       "    </tr>\n",
       "    <tr>\n",
       "      <th>...</th>\n",
       "      <td>...</td>\n",
       "      <td>...</td>\n",
       "    </tr>\n",
       "    <tr>\n",
       "      <th>95</th>\n",
       "      <td>Igloo</td>\n",
       "      <td>French Montana, DJ Drama &amp; Rob49</td>\n",
       "    </tr>\n",
       "    <tr>\n",
       "      <th>96</th>\n",
       "      <td>People</td>\n",
       "      <td>Libianca</td>\n",
       "    </tr>\n",
       "    <tr>\n",
       "      <th>97</th>\n",
       "      <td>The Good I'll Do</td>\n",
       "      <td>Zach Bryan</td>\n",
       "    </tr>\n",
       "    <tr>\n",
       "      <th>98</th>\n",
       "      <td>In Case You Didn't Know</td>\n",
       "      <td>Brett Young</td>\n",
       "    </tr>\n",
       "    <tr>\n",
       "      <th>99</th>\n",
       "      <td>Next Thing You Know</td>\n",
       "      <td>Jordan Davis</td>\n",
       "    </tr>\n",
       "  </tbody>\n",
       "</table>\n",
       "<p>100 rows × 2 columns</p>\n",
       "</div>"
      ],
      "text/plain": [
       "                                             title  \\\n",
       "0   Separate Ways (Worlds Apart) [feat. Lzzy Hale]   \n",
       "1                                           Unholy   \n",
       "2                               Heart Like A Truck   \n",
       "3                                        Anti-Hero   \n",
       "4                                  Son Of A Sinner   \n",
       "..                                             ...   \n",
       "95                                           Igloo   \n",
       "96                                          People   \n",
       "97                                The Good I'll Do   \n",
       "98                         In Case You Didn't Know   \n",
       "99                             Next Thing You Know   \n",
       "\n",
       "                              artist  \n",
       "0                           Daughtry  \n",
       "1             Sam Smith & Kim Petras  \n",
       "2                      Lainey Wilson  \n",
       "3                       Taylor Swift  \n",
       "4                         Jelly Roll  \n",
       "..                               ...  \n",
       "95  French Montana, DJ Drama & Rob49  \n",
       "96                          Libianca  \n",
       "97                        Zach Bryan  \n",
       "98                       Brett Young  \n",
       "99                      Jordan Davis  \n",
       "\n",
       "[100 rows x 2 columns]"
      ]
     },
     "execution_count": 82,
     "metadata": {},
     "output_type": "execute_result"
    }
   ],
   "source": [
    "songs_list"
   ]
  },
  {
   "cell_type": "markdown",
   "id": "92b43159",
   "metadata": {},
   "source": [
    "#### Using FIND instead of SELECT"
   ]
  },
  {
   "cell_type": "code",
   "execution_count": 69,
   "id": "890bc3ff",
   "metadata": {},
   "outputs": [],
   "source": [
    "url = \"https://www.popvortex.com/music/charts/top-100-songs.php\""
   ]
  },
  {
   "cell_type": "code",
   "execution_count": 70,
   "id": "b54359d7",
   "metadata": {},
   "outputs": [
    {
     "data": {
      "text/plain": [
       "200"
      ]
     },
     "execution_count": 70,
     "metadata": {},
     "output_type": "execute_result"
    }
   ],
   "source": [
    "# download html with a get request\n",
    "response = requests.get(url)\n",
    "response.status_code # 200 status code means OK!"
   ]
  },
  {
   "cell_type": "code",
   "execution_count": 71,
   "id": "02cbeec8",
   "metadata": {},
   "outputs": [],
   "source": [
    "soup = BeautifulSoup(response.content, \"html.parser\")"
   ]
  },
  {
   "cell_type": "code",
   "execution_count": 83,
   "id": "6fa90ee4",
   "metadata": {},
   "outputs": [],
   "source": [
    "result = soup.find(\"div\",{\"class\":\"chart-wrapper\"})\n",
    "titles = []\n",
    "singers = []\n",
    "for i in range(1,101,1):\n",
    "    i_id = \"chart-position-\" + str(i)\n",
    "    song = result.find(\"div\",{\"id\":i_id})\n",
    "    title = song.find(\"p\",{\"class\":\"title-artist\"}).find(\"cite\").text\n",
    "    singer = song.find(\"p\",{\"class\":\"title-artist\"}).find(\"em\").text\n",
    "    titles.append(title)\n",
    "    singers.append(singer)\n"
   ]
  },
  {
   "cell_type": "code",
   "execution_count": 85,
   "id": "26777de1",
   "metadata": {},
   "outputs": [
    {
     "data": {
      "text/html": [
       "<div>\n",
       "<style scoped>\n",
       "    .dataframe tbody tr th:only-of-type {\n",
       "        vertical-align: middle;\n",
       "    }\n",
       "\n",
       "    .dataframe tbody tr th {\n",
       "        vertical-align: top;\n",
       "    }\n",
       "\n",
       "    .dataframe thead th {\n",
       "        text-align: right;\n",
       "    }\n",
       "</style>\n",
       "<table border=\"1\" class=\"dataframe\">\n",
       "  <thead>\n",
       "    <tr style=\"text-align: right;\">\n",
       "      <th></th>\n",
       "      <th>title</th>\n",
       "      <th>singer</th>\n",
       "    </tr>\n",
       "  </thead>\n",
       "  <tbody>\n",
       "    <tr>\n",
       "      <th>0</th>\n",
       "      <td>Separate Ways (Worlds Apart) [feat. Lzzy Hale]</td>\n",
       "      <td>Daughtry</td>\n",
       "    </tr>\n",
       "    <tr>\n",
       "      <th>1</th>\n",
       "      <td>Unholy</td>\n",
       "      <td>Sam Smith &amp; Kim Petras</td>\n",
       "    </tr>\n",
       "    <tr>\n",
       "      <th>2</th>\n",
       "      <td>Heart Like A Truck</td>\n",
       "      <td>Lainey Wilson</td>\n",
       "    </tr>\n",
       "    <tr>\n",
       "      <th>3</th>\n",
       "      <td>Anti-Hero</td>\n",
       "      <td>Taylor Swift</td>\n",
       "    </tr>\n",
       "    <tr>\n",
       "      <th>4</th>\n",
       "      <td>Son Of A Sinner</td>\n",
       "      <td>Jelly Roll</td>\n",
       "    </tr>\n",
       "    <tr>\n",
       "      <th>...</th>\n",
       "      <td>...</td>\n",
       "      <td>...</td>\n",
       "    </tr>\n",
       "    <tr>\n",
       "      <th>95</th>\n",
       "      <td>Igloo</td>\n",
       "      <td>French Montana, DJ Drama &amp; Rob49</td>\n",
       "    </tr>\n",
       "    <tr>\n",
       "      <th>96</th>\n",
       "      <td>People</td>\n",
       "      <td>Libianca</td>\n",
       "    </tr>\n",
       "    <tr>\n",
       "      <th>97</th>\n",
       "      <td>The Good I'll Do</td>\n",
       "      <td>Zach Bryan</td>\n",
       "    </tr>\n",
       "    <tr>\n",
       "      <th>98</th>\n",
       "      <td>In Case You Didn't Know</td>\n",
       "      <td>Brett Young</td>\n",
       "    </tr>\n",
       "    <tr>\n",
       "      <th>99</th>\n",
       "      <td>Next Thing You Know</td>\n",
       "      <td>Jordan Davis</td>\n",
       "    </tr>\n",
       "  </tbody>\n",
       "</table>\n",
       "<p>100 rows × 2 columns</p>\n",
       "</div>"
      ],
      "text/plain": [
       "                                             title  \\\n",
       "0   Separate Ways (Worlds Apart) [feat. Lzzy Hale]   \n",
       "1                                           Unholy   \n",
       "2                               Heart Like A Truck   \n",
       "3                                        Anti-Hero   \n",
       "4                                  Son Of A Sinner   \n",
       "..                                             ...   \n",
       "95                                           Igloo   \n",
       "96                                          People   \n",
       "97                                The Good I'll Do   \n",
       "98                         In Case You Didn't Know   \n",
       "99                             Next Thing You Know   \n",
       "\n",
       "                              singer  \n",
       "0                           Daughtry  \n",
       "1             Sam Smith & Kim Petras  \n",
       "2                      Lainey Wilson  \n",
       "3                       Taylor Swift  \n",
       "4                         Jelly Roll  \n",
       "..                               ...  \n",
       "95  French Montana, DJ Drama & Rob49  \n",
       "96                          Libianca  \n",
       "97                        Zach Bryan  \n",
       "98                       Brett Young  \n",
       "99                      Jordan Davis  \n",
       "\n",
       "[100 rows x 2 columns]"
      ]
     },
     "execution_count": 85,
     "metadata": {},
     "output_type": "execute_result"
    }
   ],
   "source": [
    "top100 = pd.DataFrame({\"title\":titles,\"singer\":singers})\n",
    "top100"
   ]
  },
  {
   "cell_type": "code",
   "execution_count": 73,
   "id": "620cc61c",
   "metadata": {},
   "outputs": [
    {
     "name": "stdout",
     "output_type": "stream",
     "text": [
      "(100, 2)\n"
     ]
    }
   ],
   "source": [
    "print(top100.shape)"
   ]
  },
  {
   "cell_type": "code",
   "execution_count": null,
   "id": "247eaf98",
   "metadata": {},
   "outputs": [],
   "source": []
  }
 ],
 "metadata": {
  "kernelspec": {
   "display_name": "Python 3 (ipykernel)",
   "language": "python",
   "name": "python3"
  },
  "language_info": {
   "codemirror_mode": {
    "name": "ipython",
    "version": 3
   },
   "file_extension": ".py",
   "mimetype": "text/x-python",
   "name": "python",
   "nbconvert_exporter": "python",
   "pygments_lexer": "ipython3",
   "version": "3.9.13"
  }
 },
 "nbformat": 4,
 "nbformat_minor": 5
}
