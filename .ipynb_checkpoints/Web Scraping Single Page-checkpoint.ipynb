{
 "cells": [
  {
   "cell_type": "code",
   "execution_count": 117,
   "id": "6e999409",
   "metadata": {},
   "outputs": [],
   "source": [
    "import pandas as pd\n",
    "import numpy as np\n",
    "from bs4 import BeautifulSoup\n",
    "import requests"
   ]
  },
  {
   "cell_type": "markdown",
   "id": "923cc2b5",
   "metadata": {},
   "source": [
    "#### SELECT METHOD"
   ]
  },
  {
   "cell_type": "code",
   "execution_count": 118,
   "id": "85c3873f",
   "metadata": {},
   "outputs": [],
   "source": [
    "url = \"https://www.popvortex.com/music/charts/top-100-songs.php\""
   ]
  },
  {
   "cell_type": "code",
   "execution_count": 119,
   "id": "db2314a9",
   "metadata": {},
   "outputs": [
    {
     "data": {
      "text/plain": [
       "200"
      ]
     },
     "execution_count": 119,
     "metadata": {},
     "output_type": "execute_result"
    }
   ],
   "source": [
    "# download html with a get request\n",
    "response = requests.get(url)\n",
    "response.status_code # 200 status code means OK!"
   ]
  },
  {
   "cell_type": "code",
   "execution_count": 120,
   "id": "2a87f94d",
   "metadata": {},
   "outputs": [],
   "source": [
    "# parse html (create the 'soup')\n",
    "soup = BeautifulSoup(response.content, \"html.parser\")"
   ]
  },
  {
   "cell_type": "code",
   "execution_count": 182,
   "id": "e7cf4e36",
   "metadata": {},
   "outputs": [],
   "source": [
    "# soup"
   ]
  },
  {
   "cell_type": "code",
   "execution_count": 183,
   "id": "aa4f23e0",
   "metadata": {},
   "outputs": [],
   "source": [
    "# print(soup.prettify())"
   ]
  },
  {
   "cell_type": "code",
   "execution_count": 184,
   "id": "eb4b7856",
   "metadata": {},
   "outputs": [],
   "source": [
    "# soup.select('body > div.container > div:nth-child(4) > div.col-xs-12.col-md-8 > div.chart-wrapper')"
   ]
  },
  {
   "cell_type": "code",
   "execution_count": 185,
   "id": "5d17d35c",
   "metadata": {},
   "outputs": [],
   "source": [
    "# soup.select('div.chart-wrapper p')\n"
   ]
  },
  {
   "cell_type": "code",
   "execution_count": 125,
   "id": "cd333115",
   "metadata": {},
   "outputs": [
    {
     "name": "stdout",
     "output_type": "stream",
     "text": [
      "['Separate Ways (Worlds Apart) [feat. Lzzy Hale]', 'Anti-Hero', 'Unholy', 'Heart Like A Truck', 'Temperature', 'Made You Look', 'Son Of A Sinner', 'Lift Me Up (From Black Panther: Wakanda Forever - Music From and Inspired By)', 'Thought You Should Know', 'wait in the truck', 'Bloody Mary', 'Thank God', 'Unstoppable', \"I Ain't Worried\", \"I'm Good (Blue)\", \"Something in the Orange (Z&E's Version)\", 'As It Was', 'Ghost', 'Rock and a Hard Place', 'One Thing At A Time', 'You Proof', 'golden hour', 'Players', 'Calm Down', 'Papa (Version A)', 'Wasted On You', 'Mine', \"I'm Good (Blue)\", \"Creepin'\", 'Hold My Hand', 'Cooler Than Me (Single Mix)', 'No Horse To Ride', 'CUFF IT', 'Fall In Love', 'Gratitude', 'The Kind of Love We Make', 'Hold Me Closer', 'Giddy Up!', 'Under the Influence', 'Memory Lane', 'Kill Bill', 'Going, Going, Gone', 'What My World Spins Around', 'About Damn Time', 'The Summoning', 'Bebe Dame', 'NEED A FAVOR', 'Tennessee Whiskey', 'Wreckage', 'Daydream', 'Just Pretend', 'Die For You', 'Que Vuelvas', 'Yes I Do', 'Victoria’s Secret', 'Tishomingo', 'New Punani', 'Sober', 'Beautiful Liar', 'Never Been to Spain', 'Watermelon Moonshine', 'Free Smoke (feat. BIG30)', 'Just Wanna Rock', 'Chit Chat (feat. DJ Drama)', 'Shivers', 'How Do I Say Goodbye', 'Igloo', 'She Had Me At Heads Carolina', 'Build a Boat', 'Goodness of God (Live)', \"Chasin' You\", 'Something in the Orange', 'Perfectly Loved (feat. TobyMac)', 'Run Away to Mars', 'In the Air Tonight', 'Forget Me', 'Addicted to You', 'Going Yeezy', 'Easier Said with Rum', 'Holding Out for a Hero', 'The Oath', 'Tennessee Orange', \"I'm a Believer\", 'Choose You', 'Intro (feat. Cheeze)', \"Can't Stop Won't Stop (Remix) [feat. Kodak Black]\", 'Nothing Left To Lose', 'Cold Heart (PNAU Remix)', 'Forever', 'Way of the Triune God (Hallelujah Version)', 'Kiss the Girl', 'You Say', 'Not So Bad', 'Project Baby (Remix)', 'Hey There Delilah', \"'Til You Can't\", 'Calm Down', 'RZA', 'Yes I Do', 'Fenty']\n",
      "['Daughtry', 'Taylor Swift', 'Sam Smith & Kim Petras', 'Lainey Wilson', 'Sean Paul', 'Meghan Trainor', 'Jelly Roll', 'Rihanna', 'Morgan Wallen', 'HARDY & Lainey Wilson', 'Lady Gaga', 'Kane Brown & Katelyn Brown', 'Sia', 'OneRepublic', 'David Guetta & Bebe Rexha', 'Zach Bryan', 'Harry Styles', 'Tom MacDonald', 'Bailey Zimmerman', 'Morgan Wallen', 'Morgan Wallen', 'JVKE', 'Coi Leray', 'Rema & Selena Gomez', 'Miles Guo', 'Morgan Wallen', 'Bazzi', 'David Guetta & Bebe Rexha', 'Metro Boomin, The Weeknd & 21 Savage', 'Lady Gaga', 'Mike Posner', 'Luke Grimes', 'Beyoncé', 'Bailey Zimmerman', 'Brandon Lake', 'Luke Combs', 'Elton John & Britney Spears', 'Shania Twain', 'Chris Brown', 'Old Dominion', 'SZA', 'Luke Combs', 'Jordan Davis', 'Lizzo', 'Sleep Token', 'Fuerza Regida & Grupo Frontera', 'Jelly Roll', 'Chris Stapleton', 'Nate Smith', 'Lily Meola', 'Bad Omens', 'The Weeknd', 'Carin Leon & Grupo Frontera', 'French Montana', 'Jax', 'Zach Bryan', 'French Montana, DJ Drama & Cheeze', 'P!nk', 'MONSTA X', 'Three Dog Night', 'Lainey Wilson', 'French Montana, DJ Drama & EST Gee', 'Lil Uzi Vert', 'French Montana, Smooky MarGielaa & A$AP Rocky', 'Ed Sheeran', 'Dean Lewis', 'French Montana, DJ Drama & Rob49', 'Cole Swindell', 'Colton Dixon', 'CeCe Winans', 'Morgan Wallen', 'Zach Bryan', 'Rachael Lampa', 'TALK', 'Phil Collins', 'Lewis Capaldi', 'French Montana, DJ Drama & Cheeze', 'French Montana, DJ Drama & Cheeze', 'Old Dominion', 'Adam Lambert', 'Chinx, DJ Drama & French Montana', 'Megan Moroney', 'The Monkees', 'French Montana, DJ Drama & Jeremih', 'French Montana, Stove God Cooks & DJ Drama', 'King Combs, French Montana & DJ Drama', 'Everything But the Girl', 'Elton John & Dua Lipa', 'French Montana, DJ Drama & Mr.Chicken', 'Tyler Childers', 'Brent Morgan', 'Lauren Daigle', 'French Montana & DJ Drama', 'Vory, DJ Drama & French Montana', \"Plain White T's\", 'Cody Johnson', 'Rema', 'French Montana, DJ Drama & Benny the Butcher', 'French Montana', 'French Montana & NAV']\n"
     ]
    }
   ],
   "source": [
    "#initialize empty lists\n",
    "song_title = []\n",
    "artist = []\n",
    "\n",
    "\n",
    "\n",
    "# define the number of iterations of our for loop\n",
    "# by checking how many elements are in the retrieved result set\n",
    "# (this is equivalent but more robust than just explicitly defining 250 iterations)\n",
    "num_iter = len(soup.select(\"div.chart-wrapper p em\"))\n",
    "\n",
    "tClist = soup.select(\"div.chart-wrapper p em\")\n",
    "# spanlist = soup.select(\"td.titleColumn span.secondaryInfo\")\n",
    "# iterate through the result set and retrive all the data\n",
    "for i in range(num_iter):\n",
    "    song_title.append(soup.select(\"div.chart-wrapper p cite\")[i].get_text())\n",
    "    artist.append(soup.select(\"div.chart-wrapper p em\")[i].get_text())\n",
    "#     year.append(spanlist[i].get_text())\n",
    "\n",
    "print(song_title)\n",
    "print(artist)\n"
   ]
  },
  {
   "cell_type": "code",
   "execution_count": 126,
   "id": "f669bf08",
   "metadata": {},
   "outputs": [],
   "source": [
    "songs_list = pd.DataFrame({\"title\":song_title,\"artist\":artist})"
   ]
  },
  {
   "cell_type": "code",
   "execution_count": 127,
   "id": "161ba452",
   "metadata": {},
   "outputs": [
    {
     "data": {
      "text/html": [
       "<div>\n",
       "<style scoped>\n",
       "    .dataframe tbody tr th:only-of-type {\n",
       "        vertical-align: middle;\n",
       "    }\n",
       "\n",
       "    .dataframe tbody tr th {\n",
       "        vertical-align: top;\n",
       "    }\n",
       "\n",
       "    .dataframe thead th {\n",
       "        text-align: right;\n",
       "    }\n",
       "</style>\n",
       "<table border=\"1\" class=\"dataframe\">\n",
       "  <thead>\n",
       "    <tr style=\"text-align: right;\">\n",
       "      <th></th>\n",
       "      <th>title</th>\n",
       "      <th>artist</th>\n",
       "    </tr>\n",
       "  </thead>\n",
       "  <tbody>\n",
       "    <tr>\n",
       "      <th>0</th>\n",
       "      <td>Separate Ways (Worlds Apart) [feat. Lzzy Hale]</td>\n",
       "      <td>Daughtry</td>\n",
       "    </tr>\n",
       "    <tr>\n",
       "      <th>1</th>\n",
       "      <td>Anti-Hero</td>\n",
       "      <td>Taylor Swift</td>\n",
       "    </tr>\n",
       "    <tr>\n",
       "      <th>2</th>\n",
       "      <td>Unholy</td>\n",
       "      <td>Sam Smith &amp; Kim Petras</td>\n",
       "    </tr>\n",
       "    <tr>\n",
       "      <th>3</th>\n",
       "      <td>Heart Like A Truck</td>\n",
       "      <td>Lainey Wilson</td>\n",
       "    </tr>\n",
       "    <tr>\n",
       "      <th>4</th>\n",
       "      <td>Temperature</td>\n",
       "      <td>Sean Paul</td>\n",
       "    </tr>\n",
       "    <tr>\n",
       "      <th>...</th>\n",
       "      <td>...</td>\n",
       "      <td>...</td>\n",
       "    </tr>\n",
       "    <tr>\n",
       "      <th>95</th>\n",
       "      <td>'Til You Can't</td>\n",
       "      <td>Cody Johnson</td>\n",
       "    </tr>\n",
       "    <tr>\n",
       "      <th>96</th>\n",
       "      <td>Calm Down</td>\n",
       "      <td>Rema</td>\n",
       "    </tr>\n",
       "    <tr>\n",
       "      <th>97</th>\n",
       "      <td>RZA</td>\n",
       "      <td>French Montana, DJ Drama &amp; Benny the Butcher</td>\n",
       "    </tr>\n",
       "    <tr>\n",
       "      <th>98</th>\n",
       "      <td>Yes I Do</td>\n",
       "      <td>French Montana</td>\n",
       "    </tr>\n",
       "    <tr>\n",
       "      <th>99</th>\n",
       "      <td>Fenty</td>\n",
       "      <td>French Montana &amp; NAV</td>\n",
       "    </tr>\n",
       "  </tbody>\n",
       "</table>\n",
       "<p>100 rows × 2 columns</p>\n",
       "</div>"
      ],
      "text/plain": [
       "                                             title  \\\n",
       "0   Separate Ways (Worlds Apart) [feat. Lzzy Hale]   \n",
       "1                                        Anti-Hero   \n",
       "2                                           Unholy   \n",
       "3                               Heart Like A Truck   \n",
       "4                                      Temperature   \n",
       "..                                             ...   \n",
       "95                                  'Til You Can't   \n",
       "96                                       Calm Down   \n",
       "97                                             RZA   \n",
       "98                                        Yes I Do   \n",
       "99                                           Fenty   \n",
       "\n",
       "                                          artist  \n",
       "0                                       Daughtry  \n",
       "1                                   Taylor Swift  \n",
       "2                         Sam Smith & Kim Petras  \n",
       "3                                  Lainey Wilson  \n",
       "4                                      Sean Paul  \n",
       "..                                           ...  \n",
       "95                                  Cody Johnson  \n",
       "96                                          Rema  \n",
       "97  French Montana, DJ Drama & Benny the Butcher  \n",
       "98                                French Montana  \n",
       "99                          French Montana & NAV  \n",
       "\n",
       "[100 rows x 2 columns]"
      ]
     },
     "execution_count": 127,
     "metadata": {},
     "output_type": "execute_result"
    }
   ],
   "source": [
    "songs_list"
   ]
  },
  {
   "cell_type": "code",
   "execution_count": 128,
   "id": "e2d2f6d3",
   "metadata": {},
   "outputs": [],
   "source": [
    "songs_list.to_csv('top100songs.csv', index=False)"
   ]
  },
  {
   "cell_type": "markdown",
   "id": "018ec7d3",
   "metadata": {},
   "source": [
    "#### 1ST PROTOTYPE "
   ]
  },
  {
   "cell_type": "markdown",
   "id": "ea98b404",
   "metadata": {},
   "source": [
    "##### Getting User Inputs"
   ]
  },
  {
   "cell_type": "code",
   "execution_count": 171,
   "id": "eec1a779",
   "metadata": {},
   "outputs": [
    {
     "name": "stdout",
     "output_type": "stream",
     "text": [
      "Enter a song title:Unholy\n"
     ]
    }
   ],
   "source": [
    "song_title = input('Enter a song title:')"
   ]
  },
  {
   "cell_type": "code",
   "execution_count": 177,
   "id": "37eeec3c",
   "metadata": {},
   "outputs": [
    {
     "name": "stdout",
     "output_type": "stream",
     "text": [
      "Enter an artist name:Sam Smith & Kim Petras\n"
     ]
    }
   ],
   "source": [
    "artist_name = input('Enter an artist name:')"
   ]
  },
  {
   "cell_type": "markdown",
   "id": "3c6ff0dc",
   "metadata": {},
   "source": [
    "##### Checking if we have those ones in our song list"
   ]
  },
  {
   "cell_type": "code",
   "execution_count": 178,
   "id": "8c609f03",
   "metadata": {},
   "outputs": [],
   "source": [
    "user_inputs = songs_list[(songs_list.title == song_title) & (songs_list.artist == artist_name)].index"
   ]
  },
  {
   "cell_type": "code",
   "execution_count": 179,
   "id": "29966c3d",
   "metadata": {},
   "outputs": [
    {
     "data": {
      "text/plain": [
       "Int64Index([2], dtype='int64')"
      ]
     },
     "execution_count": 179,
     "metadata": {},
     "output_type": "execute_result"
    }
   ],
   "source": [
    "user_inputs"
   ]
  },
  {
   "cell_type": "markdown",
   "id": "90eef352",
   "metadata": {},
   "source": [
    "##### Results"
   ]
  },
  {
   "cell_type": "code",
   "execution_count": 180,
   "id": "88678a9e",
   "metadata": {},
   "outputs": [],
   "source": [
    "import random"
   ]
  },
  {
   "cell_type": "code",
   "execution_count": 181,
   "id": "1af7dde8",
   "metadata": {},
   "outputs": [
    {
     "data": {
      "text/html": [
       "<div>\n",
       "<style scoped>\n",
       "    .dataframe tbody tr th:only-of-type {\n",
       "        vertical-align: middle;\n",
       "    }\n",
       "\n",
       "    .dataframe tbody tr th {\n",
       "        vertical-align: top;\n",
       "    }\n",
       "\n",
       "    .dataframe thead th {\n",
       "        text-align: right;\n",
       "    }\n",
       "</style>\n",
       "<table border=\"1\" class=\"dataframe\">\n",
       "  <thead>\n",
       "    <tr style=\"text-align: right;\">\n",
       "      <th></th>\n",
       "      <th>title</th>\n",
       "      <th>artist</th>\n",
       "    </tr>\n",
       "  </thead>\n",
       "  <tbody>\n",
       "    <tr>\n",
       "      <th>99</th>\n",
       "      <td>Fenty</td>\n",
       "      <td>French Montana &amp; NAV</td>\n",
       "    </tr>\n",
       "  </tbody>\n",
       "</table>\n",
       "</div>"
      ],
      "text/plain": [
       "    title                artist\n",
       "99  Fenty  French Montana & NAV"
      ]
     },
     "metadata": {},
     "output_type": "display_data"
    }
   ],
   "source": [
    "if user_inputs.size == 0:\n",
    "    print('We dont have suitable recommendations at this moment')\n",
    "else: \n",
    "    recommendation = random.randint(0,100)\n",
    "    while recommendation == user_inputs:\n",
    "        recommendation = random.randint(0,100)\n",
    "    display(songs_list[songs_list.index == recommendation])"
   ]
  }
 ],
 "metadata": {
  "kernelspec": {
   "display_name": "Python 3 (ipykernel)",
   "language": "python",
   "name": "python3"
  },
  "language_info": {
   "codemirror_mode": {
    "name": "ipython",
    "version": 3
   },
   "file_extension": ".py",
   "mimetype": "text/x-python",
   "name": "python",
   "nbconvert_exporter": "python",
   "pygments_lexer": "ipython3",
   "version": "3.9.13"
  }
 },
 "nbformat": 4,
 "nbformat_minor": 5
}
